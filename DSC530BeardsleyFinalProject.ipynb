{
 "cells": [
  {
   "cell_type": "markdown",
   "id": "6ba080c6",
   "metadata": {},
   "source": [
    "# DSC530 Term Project \n",
    "## Branden Beardsley\n",
    "### 08/08/2023\n",
    "\n",
    "Milestone 1 (Week 1) – Evaluate datasets, start thinking of statistical questions\n",
    "\n",
    "\n",
    "Step 1: Choose a Dataset\n",
    "\n",
    "https://www.kaggle.com/datasets/joebeachcapital/world-population-by-country-2023\n",
    "\n",
    "\n",
    "Download the chosen dataset and save it in a project folder on your local machine."
   ]
  },
  {
   "cell_type": "markdown",
   "id": "e8be56e2",
   "metadata": {},
   "source": [
    "Step 2: Import Libraries\n",
    "\n",
    "Open a Jupyter Notebook and start by importing the necessary libraries:"
   ]
  },
  {
   "cell_type": "code",
   "execution_count": 1,
   "id": "9c3b23ee",
   "metadata": {},
   "outputs": [],
   "source": [
    "import pandas as pd\n",
    "import numpy as np\n",
    "import matplotlib.pyplot as plt"
   ]
  },
  {
   "cell_type": "markdown",
   "id": "40c5010e",
   "metadata": {},
   "source": [
    "Step 3: Load and Explore Data\n",
    "Load the downloaded dataset into a Pandas DataFrame and perform some initial exploration to understand its structure and content."
   ]
  },
  {
   "cell_type": "code",
   "execution_count": null,
   "id": "0de9ba76",
   "metadata": {},
   "outputs": [],
   "source": [
    "# Load the dataset into a DataFrame\n",
    "data = pd.read_csv('path_to_your_dataset.csv')\n",
    "\n",
    "# Display basic information about the dataset\n",
    "print(data.info())\n",
    "\n",
    "# Display the first few rows of the dataset\n",
    "print(data.head())\n"
   ]
  }
 ],
 "metadata": {
  "kernelspec": {
   "display_name": "Python 3 (ipykernel)",
   "language": "python",
   "name": "python3"
  },
  "language_info": {
   "codemirror_mode": {
    "name": "ipython",
    "version": 3
   },
   "file_extension": ".py",
   "mimetype": "text/x-python",
   "name": "python",
   "nbconvert_exporter": "python",
   "pygments_lexer": "ipython3",
   "version": "3.10.9"
  }
 },
 "nbformat": 4,
 "nbformat_minor": 5
}
